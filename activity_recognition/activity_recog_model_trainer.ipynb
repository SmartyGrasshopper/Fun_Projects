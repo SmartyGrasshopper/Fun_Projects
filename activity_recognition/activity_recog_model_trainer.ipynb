{
  "nbformat": 4,
  "nbformat_minor": 0,
  "metadata": {
    "colab": {
      "name": "activity_recog_model_trainer.ipynb",
      "provenance": []
    },
    "kernelspec": {
      "name": "python3",
      "display_name": "Python 3"
    },
    "accelerator": "GPU"
  },
  "cells": [
    {
      "cell_type": "code",
      "metadata": {
        "id": "2dr5Cx4x6rWD",
        "colab_type": "code",
        "colab": {
          "base_uri": "https://localhost:8080/",
          "height": 50
        },
        "outputId": "a648d7da-d7b2-4107-e7e7-f864d897e2bd"
      },
      "source": [
        "import os\n",
        "\n",
        "os.environ[\"KERAS_BACKEND\"] = \"theano\"\n",
        "import keras\n",
        "\n",
        "print(keras.backend.backend())"
      ],
      "execution_count": 1,
      "outputs": [
        {
          "output_type": "stream",
          "text": [
            "Using Theano backend.\n"
          ],
          "name": "stderr"
        },
        {
          "output_type": "stream",
          "text": [
            "theano\n"
          ],
          "name": "stdout"
        }
      ]
    },
    {
      "cell_type": "code",
      "metadata": {
        "id": "l4eQmw8oge4k",
        "colab_type": "code",
        "colab": {
          "base_uri": "https://localhost:8080/",
          "height": 50
        },
        "outputId": "a03c2d59-416b-4ddc-88cf-5bb14778d79e"
      },
      "source": [
        "import keras\n",
        "print(keras.backend.backend())"
      ],
      "execution_count": 1,
      "outputs": [
        {
          "output_type": "stream",
          "text": [
            "Using TensorFlow backend.\n"
          ],
          "name": "stderr"
        },
        {
          "output_type": "stream",
          "text": [
            "tensorflow\n"
          ],
          "name": "stdout"
        }
      ]
    },
    {
      "cell_type": "code",
      "metadata": {
        "id": "WPuN4ZRJ6zYd",
        "colab_type": "code",
        "colab": {
          "base_uri": "https://localhost:8080/",
          "height": 195
        },
        "outputId": "a3e6cc6a-3439-4da2-dd8a-cb1dc26f40ac"
      },
      "source": [
        "import pandas as pd\n",
        "\n",
        "cols = ['uid', 'activity','timestamp',  'x', 'y', 'z']\n",
        "\n",
        "data_link = '/content/drive/My Drive/WISDM_ar_v1.1_raw.txt'\n",
        "df = pd.read_csv(data_link, header=None, names=cols)\n",
        "df.head()"
      ],
      "execution_count": 19,
      "outputs": [
        {
          "output_type": "execute_result",
          "data": {
            "text/html": [
              "<div>\n",
              "<style scoped>\n",
              "    .dataframe tbody tr th:only-of-type {\n",
              "        vertical-align: middle;\n",
              "    }\n",
              "\n",
              "    .dataframe tbody tr th {\n",
              "        vertical-align: top;\n",
              "    }\n",
              "\n",
              "    .dataframe thead th {\n",
              "        text-align: right;\n",
              "    }\n",
              "</style>\n",
              "<table border=\"1\" class=\"dataframe\">\n",
              "  <thead>\n",
              "    <tr style=\"text-align: right;\">\n",
              "      <th></th>\n",
              "      <th>uid</th>\n",
              "      <th>activity</th>\n",
              "      <th>timestamp</th>\n",
              "      <th>x</th>\n",
              "      <th>y</th>\n",
              "      <th>z</th>\n",
              "    </tr>\n",
              "  </thead>\n",
              "  <tbody>\n",
              "    <tr>\n",
              "      <th>0</th>\n",
              "      <td>33</td>\n",
              "      <td>Jogging</td>\n",
              "      <td>49105962326000</td>\n",
              "      <td>-0.694638</td>\n",
              "      <td>12.680544</td>\n",
              "      <td>0.503953</td>\n",
              "    </tr>\n",
              "    <tr>\n",
              "      <th>1</th>\n",
              "      <td>33</td>\n",
              "      <td>Jogging</td>\n",
              "      <td>49106062271000</td>\n",
              "      <td>5.012288</td>\n",
              "      <td>11.264028</td>\n",
              "      <td>0.953424</td>\n",
              "    </tr>\n",
              "    <tr>\n",
              "      <th>2</th>\n",
              "      <td>33</td>\n",
              "      <td>Jogging</td>\n",
              "      <td>49106112167000</td>\n",
              "      <td>4.903325</td>\n",
              "      <td>10.882658</td>\n",
              "      <td>-0.081722</td>\n",
              "    </tr>\n",
              "    <tr>\n",
              "      <th>3</th>\n",
              "      <td>33</td>\n",
              "      <td>Jogging</td>\n",
              "      <td>49106222305000</td>\n",
              "      <td>-0.612916</td>\n",
              "      <td>18.496431</td>\n",
              "      <td>3.023717</td>\n",
              "    </tr>\n",
              "    <tr>\n",
              "      <th>4</th>\n",
              "      <td>33</td>\n",
              "      <td>Jogging</td>\n",
              "      <td>49106332290000</td>\n",
              "      <td>-1.184970</td>\n",
              "      <td>12.108489</td>\n",
              "      <td>7.205164</td>\n",
              "    </tr>\n",
              "  </tbody>\n",
              "</table>\n",
              "</div>"
            ],
            "text/plain": [
              "   uid activity       timestamp         x          y         z\n",
              "0   33  Jogging  49105962326000 -0.694638  12.680544  0.503953\n",
              "1   33  Jogging  49106062271000  5.012288  11.264028  0.953424\n",
              "2   33  Jogging  49106112167000  4.903325  10.882658 -0.081722\n",
              "3   33  Jogging  49106222305000 -0.612916  18.496431  3.023717\n",
              "4   33  Jogging  49106332290000 -1.184970  12.108489  7.205164"
            ]
          },
          "metadata": {
            "tags": []
          },
          "execution_count": 19
        }
      ]
    },
    {
      "cell_type": "code",
      "metadata": {
        "id": "KFTS1-4Wu6Wa",
        "colab_type": "code",
        "colab": {}
      },
      "source": [
        "from sklearn.preprocessing import StandardScaler\n",
        "act = df['activity']\n",
        "std = StandardScaler()\n",
        "df = std.fit_transform(df.iloc[:,3:6])"
      ],
      "execution_count": 0,
      "outputs": []
    },
    {
      "cell_type": "code",
      "metadata": {
        "id": "6aC3l95WvOOp",
        "colab_type": "code",
        "colab": {}
      },
      "source": [
        "df = pd.DataFrame(df,columns=['x','y','z'])"
      ],
      "execution_count": 0,
      "outputs": []
    },
    {
      "cell_type": "code",
      "metadata": {
        "id": "dEdN_iF2vXa8",
        "colab_type": "code",
        "colab": {}
      },
      "source": [
        "df['activity'] = act"
      ],
      "execution_count": 0,
      "outputs": []
    },
    {
      "cell_type": "code",
      "metadata": {
        "id": "Hv5u6FBi-sZq",
        "colab_type": "code",
        "colab": {
          "base_uri": "https://localhost:8080/",
          "height": 34
        },
        "outputId": "0885734e-4229-4304-8880-9b46d653d6de"
      },
      "source": [
        "df.shape"
      ],
      "execution_count": 23,
      "outputs": [
        {
          "output_type": "execute_result",
          "data": {
            "text/plain": [
              "(1098204, 4)"
            ]
          },
          "metadata": {
            "tags": []
          },
          "execution_count": 23
        }
      ]
    },
    {
      "cell_type": "code",
      "metadata": {
        "id": "JpXMYx1DDll5",
        "colab_type": "code",
        "colab": {}
      },
      "source": [
        "df = df.dropna(how = 'any')"
      ],
      "execution_count": 0,
      "outputs": []
    },
    {
      "cell_type": "code",
      "metadata": {
        "id": "ag8lpv3-D19c",
        "colab_type": "code",
        "colab": {
          "base_uri": "https://localhost:8080/",
          "height": 34
        },
        "outputId": "6f61cd1d-0b5d-43f4-eeae-49893d06518c"
      },
      "source": [
        "df.shape"
      ],
      "execution_count": 25,
      "outputs": [
        {
          "output_type": "execute_result",
          "data": {
            "text/plain": [
              "(1098203, 4)"
            ]
          },
          "metadata": {
            "tags": []
          },
          "execution_count": 25
        }
      ]
    },
    {
      "cell_type": "code",
      "metadata": {
        "id": "sUZspy-lAefu",
        "colab_type": "code",
        "colab": {
          "base_uri": "https://localhost:8080/",
          "height": 328
        },
        "outputId": "888efa15-0d24-47b2-da77-3a6ab4371e47"
      },
      "source": [
        "df['activity'].value_counts().plot.bar()"
      ],
      "execution_count": 26,
      "outputs": [
        {
          "output_type": "execute_result",
          "data": {
            "text/plain": [
              "<matplotlib.axes._subplots.AxesSubplot at 0x7f83bb1dd908>"
            ]
          },
          "metadata": {
            "tags": []
          },
          "execution_count": 26
        },
        {
          "output_type": "display_data",
          "data": {
            "image/png": "[encoded data removed]",
            "text/plain": [
              "<Figure size 432x288 with 1 Axes>"
            ]
          },
          "metadata": {
            "tags": [],
            "needs_background": "light"
          }
        }
      ]
    },
    {
      "cell_type": "code",
      "metadata": {
        "id": "Xm85I9JpArRi",
        "colab_type": "code",
        "colab": {
          "base_uri": "https://localhost:8080/",
          "height": 295
        },
        "outputId": "fa24f7ae-4b12-46b8-bfd7-b4ecd79d53e5"
      },
      "source": [
        "import matplotlib.pyplot as plt\n",
        "\n",
        "plt.plot(df['x'])\n",
        "plt.plot(df['y'])\n",
        "plt.plot(df['z'])"
      ],
      "execution_count": 27,
      "outputs": [
        {
          "output_type": "execute_result",
          "data": {
            "text/plain": [
              "[<matplotlib.lines.Line2D at 0x7f83bacc87b8>]"
            ]
          },
          "metadata": {
            "tags": []
          },
          "execution_count": 27
        },
        {
          "output_type": "display_data",
          "data": {
            "image/png": "[encoded data removed]",
            "text/plain": [
              "<Figure size 432x288 with 1 Axes>"
            ]
          },
          "metadata": {
            "tags": [],
            "needs_background": "light"
          }
        }
      ]
    },
    {
      "cell_type": "code",
      "metadata": {
        "id": "_21AYZtgv1R0",
        "colab_type": "code",
        "colab": {
          "base_uri": "https://localhost:8080/",
          "height": 195
        },
        "outputId": "e62f8ec6-d3b6-40b1-b14c-97f20f0375c1"
      },
      "source": [
        "df.head()"
      ],
      "execution_count": 28,
      "outputs": [
        {
          "output_type": "execute_result",
          "data": {
            "text/html": [
              "<div>\n",
              "<style scoped>\n",
              "    .dataframe tbody tr th:only-of-type {\n",
              "        vertical-align: middle;\n",
              "    }\n",
              "\n",
              "    .dataframe tbody tr th {\n",
              "        vertical-align: top;\n",
              "    }\n",
              "\n",
              "    .dataframe thead th {\n",
              "        text-align: right;\n",
              "    }\n",
              "</style>\n",
              "<table border=\"1\" class=\"dataframe\">\n",
              "  <thead>\n",
              "    <tr style=\"text-align: right;\">\n",
              "      <th></th>\n",
              "      <th>x</th>\n",
              "      <th>y</th>\n",
              "      <th>z</th>\n",
              "      <th>activity</th>\n",
              "    </tr>\n",
              "  </thead>\n",
              "  <tbody>\n",
              "    <tr>\n",
              "      <th>0</th>\n",
              "      <td>-0.198203</td>\n",
              "      <td>0.804142</td>\n",
              "      <td>0.019539</td>\n",
              "      <td>Jogging</td>\n",
              "    </tr>\n",
              "    <tr>\n",
              "      <th>1</th>\n",
              "      <td>0.635039</td>\n",
              "      <td>0.594170</td>\n",
              "      <td>0.114083</td>\n",
              "      <td>Jogging</td>\n",
              "    </tr>\n",
              "    <tr>\n",
              "      <th>2</th>\n",
              "      <td>0.619130</td>\n",
              "      <td>0.537639</td>\n",
              "      <td>-0.103654</td>\n",
              "      <td>Jogging</td>\n",
              "    </tr>\n",
              "    <tr>\n",
              "      <th>3</th>\n",
              "      <td>-0.186271</td>\n",
              "      <td>1.666240</td>\n",
              "      <td>0.549558</td>\n",
              "      <td>Jogging</td>\n",
              "    </tr>\n",
              "    <tr>\n",
              "      <th>4</th>\n",
              "      <td>-0.269795</td>\n",
              "      <td>0.719346</td>\n",
              "      <td>1.429102</td>\n",
              "      <td>Jogging</td>\n",
              "    </tr>\n",
              "  </tbody>\n",
              "</table>\n",
              "</div>"
            ],
            "text/plain": [
              "          x         y         z activity\n",
              "0 -0.198203  0.804142  0.019539  Jogging\n",
              "1  0.635039  0.594170  0.114083  Jogging\n",
              "2  0.619130  0.537639 -0.103654  Jogging\n",
              "3 -0.186271  1.666240  0.549558  Jogging\n",
              "4 -0.269795  0.719346  1.429102  Jogging"
            ]
          },
          "metadata": {
            "tags": []
          },
          "execution_count": 28
        }
      ]
    },
    {
      "cell_type": "code",
      "metadata": {
        "id": "UwuQl0P8A2QZ",
        "colab_type": "code",
        "colab": {
          "base_uri": "https://localhost:8080/",
          "height": 34
        },
        "outputId": "2697564d-d0ae-4e67-8c5e-881ca9170b9a"
      },
      "source": [
        "#chunking for making data\n",
        "\n",
        "from tqdm import tqdm\n",
        "\n",
        "data = []\n",
        "target = []\n",
        "chunk_size = 20\n",
        "jump_size = 2\n",
        "\n",
        "for i in tqdm(range(0,len(df) - chunk_size, jump_size)):\n",
        "\n",
        "  current_x = df['x'].iloc[i:i+chunk_size]\n",
        "  current_y = df['y'].iloc[i:i+chunk_size]\n",
        "  current_z = df['z'].iloc[i:i+chunk_size]\n",
        "  current_label = df['activity'][i : i + chunk_size].value_counts().keys()[0]\n",
        "\n",
        "  data.append([current_x, current_y, current_z])\n",
        "  target.append(current_label)\n"
      ],
      "execution_count": 29,
      "outputs": [
        {
          "output_type": "stream",
          "text": [
            "100%|██████████| 549092/549092 [11:46<00:00, 777.60it/s]\n"
          ],
          "name": "stderr"
        }
      ]
    },
    {
      "cell_type": "code",
      "metadata": {
        "id": "7Hu0kphRDLAg",
        "colab_type": "code",
        "colab": {
          "base_uri": "https://localhost:8080/",
          "height": 328
        },
        "outputId": "69a2130c-aeb6-4413-c4e0-ddf4a52c0340"
      },
      "source": [
        "pd.Series(target).value_counts().plot.bar()"
      ],
      "execution_count": 30,
      "outputs": [
        {
          "output_type": "execute_result",
          "data": {
            "text/plain": [
              "<matplotlib.axes._subplots.AxesSubplot at 0x7f83bac74be0>"
            ]
          },
          "metadata": {
            "tags": []
          },
          "execution_count": 30
        },
        {
          "output_type": "display_data",
          "data": {
            "image/png": "[encoded data removed]",
            "text/plain": [
              "<Figure size 432x288 with 1 Axes>"
            ]
          },
          "metadata": {
            "tags": [],
            "needs_background": "light"
          }
        }
      ]
    },
    {
      "cell_type": "code",
      "metadata": {
        "id": "omNWLQrkFy_i",
        "colab_type": "code",
        "colab": {}
      },
      "source": [
        "import numpy as np\n",
        "X = np.array(data)\n",
        "Y = np.array(target)"
      ],
      "execution_count": 0,
      "outputs": []
    },
    {
      "cell_type": "code",
      "metadata": {
        "id": "u1GJrViLGLFS",
        "colab_type": "code",
        "colab": {
          "base_uri": "https://localhost:8080/",
          "height": 34
        },
        "outputId": "d54f192b-4e1f-449d-d101-175b9b48f354"
      },
      "source": [
        "X.shape,Y.shape"
      ],
      "execution_count": 59,
      "outputs": [
        {
          "output_type": "execute_result",
          "data": {
            "text/plain": [
              "((549092, 3, 20), (549092,))"
            ]
          },
          "metadata": {
            "tags": []
          },
          "execution_count": 59
        }
      ]
    },
    {
      "cell_type": "code",
      "metadata": {
        "id": "vgRXbiG5GOxE",
        "colab_type": "code",
        "colab": {}
      },
      "source": [
        "X = X.reshape(-1, 20, 3)"
      ],
      "execution_count": 0,
      "outputs": []
    },
    {
      "cell_type": "code",
      "metadata": {
        "id": "BOa7K9RWI_kp",
        "colab_type": "code",
        "colab": {
          "base_uri": "https://localhost:8080/",
          "height": 34
        },
        "outputId": "f50fd48f-f139-49c0-86c0-f12276566366"
      },
      "source": [
        "X.shape, Y.shape"
      ],
      "execution_count": 61,
      "outputs": [
        {
          "output_type": "execute_result",
          "data": {
            "text/plain": [
              "((549092, 20, 3), (549092,))"
            ]
          },
          "metadata": {
            "tags": []
          },
          "execution_count": 61
        }
      ]
    },
    {
      "cell_type": "code",
      "metadata": {
        "id": "z3V3auahMTtk",
        "colab_type": "code",
        "colab": {}
      },
      "source": [
        "#mapping target\n",
        "\n",
        "all_keys = set(list(Y))\n",
        "map_dic = {}\n",
        "c = 0\n",
        "for k in all_keys:\n",
        "  if k not in map_dic:\n",
        "    map_dic[k] = c\n",
        "    c += 1\n",
        "\n",
        "final_target = []\n",
        "for f in Y:\n",
        "  value = map_dic[f]\n",
        "  final_target.append(value)\n",
        "Y = final_target"
      ],
      "execution_count": 0,
      "outputs": []
    },
    {
      "cell_type": "code",
      "metadata": {
        "id": "UYh0PvlzewAk",
        "colab_type": "code",
        "colab": {
          "base_uri": "https://localhost:8080/",
          "height": 118
        },
        "outputId": "0faa73aa-4953-424b-f841-0eb30fba155d"
      },
      "source": [
        "map_dic"
      ],
      "execution_count": 63,
      "outputs": [
        {
          "output_type": "execute_result",
          "data": {
            "text/plain": [
              "{'Downstairs': 2,\n",
              " 'Jogging': 4,\n",
              " 'Sitting': 1,\n",
              " 'Standing': 5,\n",
              " 'Upstairs': 3,\n",
              " 'Walking': 0}"
            ]
          },
          "metadata": {
            "tags": []
          },
          "execution_count": 63
        }
      ]
    },
    {
      "cell_type": "code",
      "metadata": {
        "id": "XW9CyuogNNmM",
        "colab_type": "code",
        "colab": {}
      },
      "source": [
        "Y = np.array(Y)"
      ],
      "execution_count": 0,
      "outputs": []
    },
    {
      "cell_type": "code",
      "metadata": {
        "id": "ubSFDDF6hBal",
        "colab_type": "code",
        "colab": {
          "base_uri": "https://localhost:8080/",
          "height": 34
        },
        "outputId": "a7123bab-1f95-43de-bedb-d33eae8e0a41"
      },
      "source": [
        "len(Y)"
      ],
      "execution_count": 65,
      "outputs": [
        {
          "output_type": "execute_result",
          "data": {
            "text/plain": [
              "549092"
            ]
          },
          "metadata": {
            "tags": []
          },
          "execution_count": 65
        }
      ]
    },
    {
      "cell_type": "code",
      "metadata": {
        "id": "S0GQhiigN2Pu",
        "colab_type": "code",
        "colab": {
          "base_uri": "https://localhost:8080/",
          "height": 279
        },
        "outputId": "f43a525d-38e8-4664-e130-f9cbc3074b8d"
      },
      "source": [
        "pd.Series(Y).value_counts().plot.bar()"
      ],
      "execution_count": 66,
      "outputs": [
        {
          "output_type": "execute_result",
          "data": {
            "text/plain": [
              "<matplotlib.axes._subplots.AxesSubplot at 0x7f82730040b8>"
            ]
          },
          "metadata": {
            "tags": []
          },
          "execution_count": 66
        },
        {
          "output_type": "display_data",
          "data": {
            "image/png": "[encoded data removed]",
            "text/plain": [
              "<Figure size 432x288 with 1 Axes>"
            ]
          },
          "metadata": {
            "tags": [],
            "needs_background": "light"
          }
        }
      ]
    },
    {
      "cell_type": "code",
      "metadata": {
        "id": "zTJIKJief9KF",
        "colab_type": "code",
        "colab": {}
      },
      "source": [
        "#balancing data\n",
        "new_X = []\n",
        "new_Y = []\n",
        "for idx in range(len(Y)):\n",
        "  t = Y[idx]\n",
        "  if t in [2,5,3,1]:\n",
        "\n",
        "    if t in [5,1]:\n",
        "      iters_val = 5\n",
        "\n",
        "    elif t in [3,2]:\n",
        "      iters_val = 3\n",
        "    \n",
        "    for _ in range(iters_val):\n",
        "      new_X.append(X[idx])\n",
        "      new_Y.append(Y[idx])\n",
        "\n",
        "  else:\n",
        "    new_X.append(X[idx])\n",
        "    new_Y.append(Y[idx])"
      ],
      "execution_count": 0,
      "outputs": []
    },
    {
      "cell_type": "code",
      "metadata": {
        "id": "GqFbf71kgNC9",
        "colab_type": "code",
        "colab": {
          "base_uri": "https://localhost:8080/",
          "height": 279
        },
        "outputId": "c109f9ab-3f97-488f-b0e0-ada48a348674"
      },
      "source": [
        "pd.Series(new_Y).value_counts().plot.bar()"
      ],
      "execution_count": 68,
      "outputs": [
        {
          "output_type": "execute_result",
          "data": {
            "text/plain": [
              "<matplotlib.axes._subplots.AxesSubplot at 0x7f8273004748>"
            ]
          },
          "metadata": {
            "tags": []
          },
          "execution_count": 68
        },
        {
          "output_type": "display_data",
          "data": {
            "image/png": "[encoded data removed]",
            "text/plain": [
              "<Figure size 432x288 with 1 Axes>"
            ]
          },
          "metadata": {
            "tags": [],
            "needs_background": "light"
          }
        }
      ]
    },
    {
      "cell_type": "code",
      "metadata": {
        "id": "SNSMXjmenxGi",
        "colab_type": "code",
        "colab": {
          "base_uri": "https://localhost:8080/",
          "height": 353
        },
        "outputId": "610d80f9-6bfc-42ee-f618-e0787fddde22"
      },
      "source": [
        "for i in range(len(Y)):\n",
        "  if Y[i] == 3:\n",
        "    print(X[i])\n",
        "    break"
      ],
      "execution_count": 69,
      "outputs": [
        {
          "output_type": "stream",
          "text": [
            "[[-1.05332131 -0.05104353 -0.71724005]\n",
            " [-0.65559203  0.48986827 -0.35928372]\n",
            " [-0.29166973 -0.27576057 -0.20218065]\n",
            " [ 1.38078194  0.61316433  1.28532687]\n",
            " [ 0.74242633  0.23929886  1.0447006 ]\n",
            " [ 0.31685605  0.16571892  0.04838879]\n",
            " [ 0.08219577 -0.07490729  1.11708175]\n",
            " [-0.7242148  -0.34263035 -0.42742681]\n",
            " [-0.46174924 -0.13871478 -0.26994751]\n",
            " [-0.25783379 -0.31436481 -0.43348374]\n",
            " [-0.49607171  0.91114726  0.05510589]\n",
            " [ 0.24690766 -0.02969063  0.19037659]\n",
            " [ 0.54773355  0.22469901  0.3276663 ]\n",
            " [ 0.30949548  0.21149177 -0.51334422]\n",
            " [ 0.62977657  0.20289689 -1.28688466]\n",
            " [-0.19246821  1.2743935   1.26866357]\n",
            " [ 1.34028768 -0.8829246  -0.6737822 ]\n",
            " [-0.89151951 -0.74827129 -0.72248662]\n",
            " [-0.99752322 -0.78838075 -0.73967638]\n",
            " [-0.83708517 -0.8284903  -0.80270563]]\n"
          ],
          "name": "stdout"
        }
      ]
    },
    {
      "cell_type": "code",
      "metadata": {
        "id": "stm_ZYzMgNAP",
        "colab_type": "code",
        "colab": {}
      },
      "source": [
        "X = np.array(new_X[:])\n",
        "Y = np.array(new_Y[:])"
      ],
      "execution_count": 0,
      "outputs": []
    },
    {
      "cell_type": "code",
      "metadata": {
        "id": "knMqDckHgM9i",
        "colab_type": "code",
        "colab": {
          "base_uri": "https://localhost:8080/",
          "height": 34
        },
        "outputId": "5853dacf-7763-4f21-cdbd-c871c2127315"
      },
      "source": [
        "X.shape"
      ],
      "execution_count": 71,
      "outputs": [
        {
          "output_type": "execute_result",
          "data": {
            "text/plain": [
              "(989048, 20, 3)"
            ]
          },
          "metadata": {
            "tags": []
          },
          "execution_count": 71
        }
      ]
    },
    {
      "cell_type": "code",
      "metadata": {
        "id": "LohxbmDqJCTj",
        "colab_type": "code",
        "colab": {}
      },
      "source": [
        "from sklearn.model_selection import train_test_split\n",
        "\n",
        "xtr, xte, ytr, yte = train_test_split(X,Y,test_size=0.06)"
      ],
      "execution_count": 0,
      "outputs": []
    },
    {
      "cell_type": "code",
      "metadata": {
        "id": "9dJX5mhhL40R",
        "colab_type": "code",
        "colab": {}
      },
      "source": [
        "from keras.utils import to_categorical\n",
        "\n",
        "ytr = to_categorical(ytr)\n",
        "yte = to_categorical(yte)"
      ],
      "execution_count": 0,
      "outputs": []
    },
    {
      "cell_type": "code",
      "metadata": {
        "id": "MhS1-6b5L4x8",
        "colab_type": "code",
        "colab": {
          "base_uri": "https://localhost:8080/",
          "height": 34
        },
        "outputId": "75a35782-25a7-413a-bf5b-d9a7b351e969"
      },
      "source": [
        "xtr.shape, xte.shape, ytr.shape, yte.shape"
      ],
      "execution_count": 80,
      "outputs": [
        {
          "output_type": "execute_result",
          "data": {
            "text/plain": [
              "((929705, 20, 3), (59343, 20, 3), (929705, 6), (59343, 6))"
            ]
          },
          "metadata": {
            "tags": []
          },
          "execution_count": 80
        }
      ]
    },
    {
      "cell_type": "code",
      "metadata": {
        "id": "JOuaJOr8L4ut",
        "colab_type": "code",
        "colab": {}
      },
      "source": [
        "batch_size = 20\n",
        "n_features = 3\n",
        "opt_size = ytr[0].shape[0]"
      ],
      "execution_count": 0,
      "outputs": []
    },
    {
      "cell_type": "code",
      "metadata": {
        "id": "hyATr1FESGc4",
        "colab_type": "code",
        "colab": {}
      },
      "source": [
        "xtr = xtr.reshape(xtr.shape[0], 20, 3, 1)\n",
        "xte = xte.reshape(xte.shape[0], 20, 3, 1)"
      ],
      "execution_count": 0,
      "outputs": []
    },
    {
      "cell_type": "code",
      "metadata": {
        "id": "mBP0GQ_pY2E3",
        "colab_type": "code",
        "colab": {
          "base_uri": "https://localhost:8080/",
          "height": 34
        },
        "outputId": "6a70e8ec-5f07-45a1-91bd-0ffcdb9cbea2"
      },
      "source": [
        "xtr.shape, xte.shape, ytr.shape, yte.shape"
      ],
      "execution_count": 83,
      "outputs": [
        {
          "output_type": "execute_result",
          "data": {
            "text/plain": [
              "((929705, 20, 3, 1), (59343, 20, 3, 1), (929705, 6), (59343, 6))"
            ]
          },
          "metadata": {
            "tags": []
          },
          "execution_count": 83
        }
      ]
    },
    {
      "cell_type": "code",
      "metadata": {
        "id": "xMrJWS2iYc2n",
        "colab_type": "code",
        "colab": {}
      },
      "source": [
        "#with CNN\n",
        "from tensorflow.keras.layers import Conv2D, Dense, Flatten, MaxPool2D, Dropout\n",
        "from tensorflow.keras.models import Sequential\n",
        "\n",
        "model = Sequential()\n",
        "\n",
        "model.add(Conv2D(16,(2,2), input_shape=xtr[0].shape, activation='relu'))\n",
        "\n",
        "model.add(Conv2D(32,(2,2),activation='relu'))\n",
        "\n",
        "model.add(Flatten())\n",
        "model.add(Dense(64, activation='relu'))\n",
        "model.add(Dropout(0.25))\n",
        "model.add(Dense(opt_size, activation='softmax'))"
      ],
      "execution_count": 0,
      "outputs": []
    },
    {
      "cell_type": "code",
      "metadata": {
        "id": "Yg_6Ci6Xgk-G",
        "colab_type": "code",
        "colab": {
          "base_uri": "https://localhost:8080/",
          "height": 34
        },
        "outputId": "e331d304-fbac-4d46-e55a-4ddb27ab9f13"
      },
      "source": [
        "print(keras.backend.backend())"
      ],
      "execution_count": 85,
      "outputs": [
        {
          "output_type": "stream",
          "text": [
            "tensorflow\n"
          ],
          "name": "stdout"
        }
      ]
    },
    {
      "cell_type": "code",
      "metadata": {
        "id": "YcMfEO7Nc5B2",
        "colab_type": "code",
        "colab": {
          "base_uri": "https://localhost:8080/",
          "height": 370
        },
        "outputId": "a028a479-4ad2-4dab-8269-1d9100284151"
      },
      "source": [
        "model.compile(loss='categorical_crossentropy', optimizer='adam', metrics=['accuracy'])\n",
        "model.fit(xtr, ytr, epochs=10, validation_data=(xte, yte))"
      ],
      "execution_count": 86,
      "outputs": [
        {
          "output_type": "stream",
          "text": [
            "Epoch 1/10\n",
            "29054/29054 [==============================] - 81s 3ms/step - loss: 0.3407 - accuracy: 0.8755 - val_loss: 0.2102 - val_accuracy: 0.9271\n",
            "Epoch 2/10\n",
            "29054/29054 [==============================] - 81s 3ms/step - loss: 0.2403 - accuracy: 0.9145 - val_loss: 0.1736 - val_accuracy: 0.9404\n",
            "Epoch 3/10\n",
            "29054/29054 [==============================] - 79s 3ms/step - loss: 0.2168 - accuracy: 0.9230 - val_loss: 0.1627 - val_accuracy: 0.9442\n",
            "Epoch 4/10\n",
            "29054/29054 [==============================] - 78s 3ms/step - loss: 0.2035 - accuracy: 0.9275 - val_loss: 0.1535 - val_accuracy: 0.9456\n",
            "Epoch 5/10\n",
            "29054/29054 [==============================] - 78s 3ms/step - loss: 0.1948 - accuracy: 0.9306 - val_loss: 0.1518 - val_accuracy: 0.9487\n",
            "Epoch 6/10\n",
            "29054/29054 [==============================] - 80s 3ms/step - loss: 0.1881 - accuracy: 0.9333 - val_loss: 0.1482 - val_accuracy: 0.9489\n",
            "Epoch 7/10\n",
            "29054/29054 [==============================] - 78s 3ms/step - loss: 0.1834 - accuracy: 0.9347 - val_loss: 0.1370 - val_accuracy: 0.9523\n",
            "Epoch 8/10\n",
            "29054/29054 [==============================] - 78s 3ms/step - loss: 0.1786 - accuracy: 0.9366 - val_loss: 0.1377 - val_accuracy: 0.9521\n",
            "Epoch 9/10\n",
            "29054/29054 [==============================] - 78s 3ms/step - loss: 0.1756 - accuracy: 0.9376 - val_loss: 0.1379 - val_accuracy: 0.9534\n",
            "Epoch 10/10\n",
            "29054/29054 [==============================] - 79s 3ms/step - loss: 0.1727 - accuracy: 0.9386 - val_loss: 0.1315 - val_accuracy: 0.9542\n"
          ],
          "name": "stdout"
        },
        {
          "output_type": "execute_result",
          "data": {
            "text/plain": [
              "<tensorflow.python.keras.callbacks.History at 0x7f83039545f8>"
            ]
          },
          "metadata": {
            "tags": []
          },
          "execution_count": 86
        }
      ]
    },
    {
      "cell_type": "code",
      "metadata": {
        "id": "Ip3_HfG3L4qv",
        "colab_type": "code",
        "colab": {}
      },
      "source": [
        "\"\"\"from tensorflow.keras.models import Sequential\n",
        "from tensorflow.keras.layers import LSTM,Dropout,Dense\n",
        "\n",
        "lstm_model = Sequential()\n",
        "lstm_model.add(LSTM(20,input_shape = (batch_size,n_features), activation = 'sigmoid'))\n",
        "#lstm_model.add(Dropout(0.15))\n",
        "lstm_model.add(Dense(opt_size, activation='softmax'))\n",
        "\n",
        "lstm_model.compile(loss='categorical_crossentropy', optimizer='adam', metrics=['accuracy'])\n",
        "lstm_model.fit(xtr, ytr, epochs=5, validation_data=(xte, yte))\"\"\""
      ],
      "execution_count": 0,
      "outputs": []
    },
    {
      "cell_type": "code",
      "metadata": {
        "id": "LNu1ScN9P-Tk",
        "colab_type": "code",
        "colab": {
          "base_uri": "https://localhost:8080/",
          "height": 353
        },
        "outputId": "317dc2c2-b052-4f63-9cce-a029fede20d0"
      },
      "source": [
        "model.summary()"
      ],
      "execution_count": 88,
      "outputs": [
        {
          "output_type": "stream",
          "text": [
            "Model: \"sequential_1\"\n",
            "_________________________________________________________________\n",
            "Layer (type)                 Output Shape              Param #   \n",
            "=================================================================\n",
            "conv2d_2 (Conv2D)            (None, 19, 2, 16)         80        \n",
            "_________________________________________________________________\n",
            "conv2d_3 (Conv2D)            (None, 18, 1, 32)         2080      \n",
            "_________________________________________________________________\n",
            "flatten_1 (Flatten)          (None, 576)               0         \n",
            "_________________________________________________________________\n",
            "dense_2 (Dense)              (None, 64)                36928     \n",
            "_________________________________________________________________\n",
            "dropout_1 (Dropout)          (None, 64)                0         \n",
            "_________________________________________________________________\n",
            "dense_3 (Dense)              (None, 6)                 390       \n",
            "=================================================================\n",
            "Total params: 39,478\n",
            "Trainable params: 39,478\n",
            "Non-trainable params: 0\n",
            "_________________________________________________________________\n"
          ],
          "name": "stdout"
        }
      ]
    },
    {
      "cell_type": "code",
      "metadata": {
        "id": "otSNgjbXQEiN",
        "colab_type": "code",
        "colab": {}
      },
      "source": [
        "model.save('/content/drive/My Drive/islmodel/activity_model4_tens_balanced_std.h5')"
      ],
      "execution_count": 0,
      "outputs": []
    },
    {
      "cell_type": "code",
      "metadata": {
        "id": "W6UbvM2ldwwp",
        "colab_type": "code",
        "colab": {}
      },
      "source": [
        "7eza]LGV "
      ],
      "execution_count": 0,
      "outputs": []
    }
  ]
}